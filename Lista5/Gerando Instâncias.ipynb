{
 "cells": [
  {
   "cell_type": "code",
   "execution_count": 1,
   "id": "0616b5a9",
   "metadata": {},
   "outputs": [],
   "source": [
    "import numpy as np"
   ]
  },
  {
   "cell_type": "code",
   "execution_count": 2,
   "id": "c86a94b0",
   "metadata": {},
   "outputs": [],
   "source": [
    "for i in range(1,11):\n",
    "    for n in [50,100,500,1000]:\n",
    "        l = np.random.randint(low=1, high=100, size = n)\n",
    "        with open(f'instancias/Empacotamento_{n}_{i}.txt', 'w', encoding='utf-8') as f:\n",
    "            f.write(f'Instância {i} para o problema de empacotamento com {n} itens \\n')\n",
    "            for j in l:\n",
    "                f.write(f'{j}\\n')"
   ]
  },
  {
   "cell_type": "code",
   "execution_count": null,
   "id": "e3b914e8",
   "metadata": {},
   "outputs": [],
   "source": []
  }
 ],
 "metadata": {
  "kernelspec": {
   "display_name": "Python 3 (ipykernel)",
   "language": "python",
   "name": "python3"
  },
  "language_info": {
   "codemirror_mode": {
    "name": "ipython",
    "version": 3
   },
   "file_extension": ".py",
   "mimetype": "text/x-python",
   "name": "python",
   "nbconvert_exporter": "python",
   "pygments_lexer": "ipython3",
   "version": "3.10.9"
  }
 },
 "nbformat": 4,
 "nbformat_minor": 5
}
