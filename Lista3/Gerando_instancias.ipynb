{
 "cells": [
  {
   "cell_type": "code",
   "execution_count": 1,
   "id": "8de26951",
   "metadata": {},
   "outputs": [],
   "source": [
    "import numpy as np"
   ]
  },
  {
   "cell_type": "code",
   "execution_count": 2,
   "id": "42c14e69",
   "metadata": {},
   "outputs": [],
   "source": [
    "tamanhos = [10,25,50,100]\n",
    "for n in tamanhos:\n",
    "    for i in range(1,11):    \n",
    "        coord = np.random.randint(low=-100, high=101, size=(n,2))\n",
    "        with open(f'instancia{n}x{n}-{i}.txt', 'w') as f:\n",
    "            f.write(f\"instancia{n}x{n}-{i}\\n\")\n",
    "            f.write('Vertice / Coordenada x / coordenada y \\n')  #Primeiro nó é o deposito\n",
    "            for j in range(n):\n",
    "                f.write(f'{j} {coord[j][0]} {coord[j][1]}\\n')"
   ]
  }
 ],
 "metadata": {
  "kernelspec": {
   "display_name": "Python 3 (ipykernel)",
   "language": "python",
   "name": "python3"
  },
  "language_info": {
   "codemirror_mode": {
    "name": "ipython",
    "version": 3
   },
   "file_extension": ".py",
   "mimetype": "text/x-python",
   "name": "python",
   "nbconvert_exporter": "python",
   "pygments_lexer": "ipython3",
   "version": "3.10.9"
  }
 },
 "nbformat": 4,
 "nbformat_minor": 5
}
